{
  "nbformat": 4,
  "nbformat_minor": 0,
  "metadata": {
    "colab": {
      "name": "Vektor.ipynb",
      "provenance": [],
      "collapsed_sections": []
    },
    "kernelspec": {
      "name": "python3",
      "display_name": "Python 3"
    },
    "language_info": {
      "name": "python"
    }
  },
  "cells": [
    {
      "cell_type": "code",
      "source": [
        "\n",
        "'''\n",
        "mengganti basis vektor (latihan 1)\n",
        "\n",
        "Soal: Diberikan tiga vektor, r = [1,1], b1 = [2,1] dan b2 = [-1,2]. Semua ditulis dalam bentuk basis standar.\n",
        "a. Tunjukkan bahwa b1 dan b2 adalah saling ortogonal (saling tegak lurus).\n",
        "b. Tuliskan vektor r dengan vektor b1 dan b2 sebagai basis barunya.\n",
        "\n",
        "'''"
      ],
      "metadata": {
        "id": "OOX91ff6L8NZ"
      },
      "execution_count": null,
      "outputs": []
    },
    {
      "cell_type": "code",
      "execution_count": null,
      "metadata": {
        "colab": {
          "base_uri": "https://localhost:8080/"
        },
        "id": "0-rGqyRqIiU2",
        "outputId": "c25840d7-6d50-4b5e-b00e-1a9d7d1e9478"
      },
      "outputs": [
        {
          "output_type": "stream",
          "name": "stdout",
          "text": [
            "b1 . b2 = 0\n",
            "b1 dan b2 saling ortogonal\n",
            "vektor r = [0.6 0.2]\n"
          ]
        }
      ],
      "source": [
        "from numpy import array\n",
        "import numpy as np\n",
        "#Deklarasi vektor sesuai soal\n",
        "r = array([1,1])\n",
        "b1 = array([2,1])\n",
        "b2 = array([-1,2])\n",
        "\n",
        "#Lakukan perkalian titik untuk b1 dan b2\n",
        "soal_a = np.dot(b1, b2)\n",
        "print(\"b1 . b2 =\", soal_a)\n",
        "\n",
        "#Jika perkalian titik menghasilkan 0\n",
        "#berarti vektor saling tegak lurus\n",
        "if soal_a == 0:\n",
        "  print(\"b1 dan b2 saling ortogonal\")\n",
        "else:\n",
        "  print(\"b1 dan b2 tidak ortogonal\")\n",
        "\n",
        "#Mencari vektor r, basis b1 dan b2\n",
        "b1_norm = np.sqrt(sum(b1**2))\n",
        "b2_norm = np.sqrt(sum(b2**2))    \n",
        "  \n",
        "# Untuk nilai projeksi skalar\n",
        "sp_b1 = np.dot(r, b1)/b1_norm**2\n",
        "sp_b2 = np.dot(r, b2)/b2_norm**2\n",
        "\n",
        "hasil = array([sp_b1, sp_b2])\n",
        "print(\"vektor r =\", hasil)"
      ]
    },
    {
      "cell_type": "code",
      "source": [
        "'''\n",
        "mengganti basis vektor (latihan 2)\n",
        "\n",
        "Soal: Diberikan tiga vektor, r = [1,1,1], b1 = [2,1,0], b2 = [1,2,-1] dan b3 = [-1,2,-5]. Semua ditulis dalam bentuk basis standar.\n",
        "a. Tunjukkan bahwa b1, b2 dan b3 adalah saling ortogonal (saling tegak lurus).\n",
        "b. Tuliskan vektor r dengan vektor b1, b2 dan b3 sebagai basis barunya.\n",
        "\n",
        "'''"
      ],
      "metadata": {
        "id": "fzOR2bb8Mdua"
      },
      "execution_count": null,
      "outputs": []
    },
    {
      "cell_type": "code",
      "source": [
        "from numpy import array\n",
        "import numpy as np\n",
        "#Deklarasi vektor sesuai soal\n",
        "r = array([1,1,1])\n",
        "b1 = array([2,1,0])\n",
        "b2 = array([1,2,-1])\n",
        "b3 = array([-1,2,-5])\n",
        "\n",
        "#Lakukan perkalian titik untuk b1 dan b2\n",
        "#Jika perkalian titik menghasilkan 0\n",
        "#berarti vektor saling tegak lurus\n",
        "cek_b1_b2 = np.dot(b1, b2)\n",
        "print(\"b1 . b2 =\", cek_b1_b2)\n",
        "if cek_b1_b2 == 0:\n",
        "  print(\"b1 dan b2 saling tegak lurus\")\n",
        "else:\n",
        "  print(\"b1 dan b2 tidak ortogonal\")\n",
        "\n",
        "cek_b1_b3 = np.dot(b1, b3)\n",
        "print(\"b1 . b3 =\", cek_b1_b3)\n",
        "if cek_b1_b3 == 0:\n",
        "  print(\"b1 dan b3 saling tegak lurus\")\n",
        "else:\n",
        "  print(\"b1 dan b3 tidak ortogonal\")\n",
        "\n",
        "cek_b2_b3 = np.dot(b2, b3)\n",
        "print(\"b2 . b3 =\", cek_b2_b3)\n",
        "if cek_b2_b3 == 0:\n",
        "  print(\"b2 dan b3 saling tegak lurus\")\n",
        "else:\n",
        "  print(\"b2 dan b3 tidak ortogonal\")\n",
        "\n",
        "#Mencari vektor v, basis c1 dan c2\n",
        "b1_norm = np.sqrt(sum(b1**2))\n",
        "b2_norm = np.sqrt(sum(b2**2))    \n",
        "b3_norm = np.sqrt(sum(b3**2))\n",
        "  \n",
        "# Untuk nilai projeksi skalar\n",
        "sp_b1 = np.dot(r, b1)/b1_norm**2\n",
        "sp_b2 = np.dot(r, b2)/b2_norm**2\n",
        "sp_b3 = np.dot(r, b3)/b3_norm**2\n",
        "\n",
        "hasil = array([sp_b1, sp_b2, sp_b3])\n",
        "print(\"vektor r =\", hasil)"
      ],
      "metadata": {
        "colab": {
          "base_uri": "https://localhost:8080/"
        },
        "id": "THHcdmIKT7EN",
        "outputId": "ff7b67ff-f59a-4f11-fe7f-24dce05100ac"
      },
      "execution_count": null,
      "outputs": [
        {
          "output_type": "stream",
          "name": "stdout",
          "text": [
            "b1 . b2 = 4\n",
            "b1 dan b2 tidak ortogonal\n",
            "b1 . b3 = 0\n",
            "b1 dan b3 saling tegak lurus\n",
            "b2 . b3 = 8\n",
            "b2 dan b3 tidak ortogonal\n",
            "vektor r = [ 0.6         0.33333333 -0.13333333]\n"
          ]
        }
      ]
    },
    {
      "cell_type": "code",
      "source": [
        "\n",
        "'''\n",
        "mengganti basis vektor (latihan 3)\n",
        "\n",
        "Soal: Diberikan tiga vektor, r = [1,1,2,3], b1 = [1,0,0,0], b2 = [0,2,-1,0], b3 = [0,1,2,0] dan b4 = [0,0,0,3]. \n",
        "Semua ditulis dalam bentuk basis standar.\n",
        "a. Tunjukkan bahwa b1, b2, b3 dan b4 adalah saling ortogonal (saling tegak lurus).\n",
        "b. Tuliskan vektor r dengan vektor b1, b2, b3 dan b4 sebagai basis barunya.\n",
        "\n",
        "'''"
      ],
      "metadata": {
        "id": "7fn5JCYHMg2H"
      },
      "execution_count": null,
      "outputs": []
    },
    {
      "cell_type": "code",
      "source": [
        "from numpy import array\n",
        "import numpy as np\n",
        "#Deklarasi vektor sesuai soal\n",
        "r = array([1,1,2,3])\n",
        "b1 = array([1,0,0,0])\n",
        "b2 = array([0,2,-1,0])\n",
        "b3 = array([0,1,2,0])\n",
        "b4 = array([0,0,0,3])\n",
        "\n",
        "#Lakukan perkalian titik untuk b1 dan b2\n",
        "#Jika perkalian titik menghasilkan 0\n",
        "#berarti vektor saling tegak lurus\n",
        "cek_b1_b2 = np.dot(b1, b2)\n",
        "print(\"b1 . b2 =\", cek_b1_b2)\n",
        "if cek_b1_b2 == 0:\n",
        "  print(\"b1 dan b2 saling tegak lurus\")\n",
        "else:\n",
        "  print(\"b1 dan b2 tidak ortogonal\")\n",
        "\n",
        "cek_b1_b3 = np.dot(b1, b3)\n",
        "print(\"b1 . b3 =\", cek_b1_b3)\n",
        "if cek_b1_b3 == 0:\n",
        "  print(\"b1 dan b3 saling tegak lurus\")\n",
        "else:\n",
        "  print(\"b1 dan b3 tidak ortogonal\")\n",
        "\n",
        "cek_b1_b4 = np.dot(b1, b4)\n",
        "print(\"b1 . b4 =\", cek_b1_b4)\n",
        "if cek_b1_b4 == 0:\n",
        "  print(\"b1 dan b4 saling tegak lurus\")\n",
        "else:\n",
        "  print(\"b1 dan b4 tidak ortogonal\")\n",
        "\n",
        "cek_b2_b3 = np.dot(b2, b3)\n",
        "print(\"b2 . b3 =\", cek_b2_b3)\n",
        "if cek_b2_b3 == 0:\n",
        "  print(\"b2 dan b3 saling tegak lurus\")\n",
        "else:\n",
        "  print(\"b2 dan b3 tidak ortogonal\")\n",
        "\n",
        "cek_b2_b4 = np.dot(b2, b4)\n",
        "print(\"b2 . b4 =\", cek_b2_b4)\n",
        "if cek_b2_b4 == 0:\n",
        "  print(\"b2 dan b4 saling tegak lurus\")\n",
        "else:\n",
        "  print(\"b2 dan b4 tidak ortogonal\")\n",
        "\n",
        "cek_b3_b4 = np.dot(b3, b4)\n",
        "print(\"b3 . b4 =\", cek_b3_b4)\n",
        "if cek_b3_b4 == 0:\n",
        "  print(\"b3 dan b4 saling tegak lurus\")\n",
        "else:\n",
        "  print(\"b3 dan b4 tidak ortogonal\")\n",
        "\n",
        "#Mencari vektor v, basis c1 dan c2\n",
        "b1_norm = np.sqrt(sum(b1**2))\n",
        "b2_norm = np.sqrt(sum(b2**2))    \n",
        "b3_norm = np.sqrt(sum(b3**2))\n",
        "b4_norm = np.sqrt(sum(b4**2))\n",
        "  \n",
        "# Untuk nilai projeksi skalar\n",
        "sp_b1 = np.dot(r, b1)/b1_norm**2\n",
        "sp_b2 = np.dot(r, b2)/b2_norm**2\n",
        "sp_b3 = np.dot(r, b3)/b3_norm**2\n",
        "sp_b4 = np.dot(r, b4)/b4_norm**2\n",
        "\n",
        "hasil = array([sp_b1, sp_b2, sp_b3, sp_b4])\n",
        "print(\"vektor r =\", hasil)"
      ],
      "metadata": {
        "colab": {
          "base_uri": "https://localhost:8080/"
        },
        "id": "zmwPcod-ZH-p",
        "outputId": "a3caf04f-0cc6-41ff-c82a-84da06ee4626"
      },
      "execution_count": null,
      "outputs": [
        {
          "output_type": "stream",
          "name": "stdout",
          "text": [
            "b1 . b2 = 0\n",
            "b1 dan b2 saling tegak lurus\n",
            "b1 . b3 = 0\n",
            "b1 dan b3 saling tegak lurus\n",
            "b1 . b4 = 0\n",
            "b1 dan b4 saling tegak lurus\n",
            "b2 . b3 = 0\n",
            "b2 dan b3 saling tegak lurus\n",
            "b2 . b4 = 0\n",
            "b2 dan b4 saling tegak lurus\n",
            "b3 . b4 = 0\n",
            "b3 dan b4 saling tegak lurus\n",
            "vektor r = [1. 0. 1. 1.]\n"
          ]
        }
      ]
    }
  ]
}